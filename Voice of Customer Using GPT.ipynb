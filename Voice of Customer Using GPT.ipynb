{
 "cells": [
  {
   "cell_type": "code",
   "execution_count": 1,
   "id": "f1ba87b0",
   "metadata": {},
   "outputs": [],
   "source": [
    "import requests"
   ]
  },
  {
   "cell_type": "code",
   "execution_count": 4,
   "id": "3098307a",
   "metadata": {},
   "outputs": [
    {
     "name": "stdout",
     "output_type": "stream",
     "text": [
      "ChatCompletionMessage(content=\"In the land of code, a tale unfolds,\\nOf a function recursive, its magic untold.\\nLike a mirror reflecting its own gentle gaze,\\nRepeating itself in a wondrous maze.\\n\\nIt calls upon itself, again and again,\\nA loop of enchantment, a never-ending chain.\\nWith each iteration, a new journey untold,\\nUnraveling mysteries, breaking barriers bold.\\n\\nThrough depths of logic, it travels deep,\\nIn search of answers it tirelessly peep.\\nLike a phoenix rising from ashes of yore,\\nRecursion explores, seeking more and more.\\n\\nA loop within a loop, a dance of time,\\nIn the realm of programming, it's truly sublime.\\nFor in its elegance, a beauty resides,\\nA pattern repeated, where wisdom abides.\\n\\nSo heed the call of recursion's song,\\nIn the world of coding, where dreams belong.\\nAn infinite loop with a purpose defined,\\nIn the tapestry of logic, its brilliance enshrined.\", role='assistant', function_call=None, tool_calls=None)\n"
     ]
    }
   ],
   "source": [
    "from openai import OpenAI\n",
    "client = OpenAI()\n",
    "\n",
    "completion = client.chat.completions.create(\n",
    "  model=\"gpt-3.5-turbo\",\n",
    "  messages=[\n",
    "    {\"role\": \"system\", \"content\": \"You are a poetic assistant, skilled in explaining complex programming concepts with creative flair.\"},\n",
    "    {\"role\": \"user\", \"content\": \"Compose a poem that explains the concept of recursion in programming.\"}\n",
    "  ]\n",
    ")\n",
    "\n",
    "print(completion.choices[0].message)"
   ]
  },
  {
   "cell_type": "code",
   "execution_count": null,
   "id": "dd41f0b6",
   "metadata": {},
   "outputs": [],
   "source": []
  }
 ],
 "metadata": {
  "kernelspec": {
   "display_name": "Python 3 (ipykernel)",
   "language": "python",
   "name": "python3"
  },
  "language_info": {
   "codemirror_mode": {
    "name": "ipython",
    "version": 3
   },
   "file_extension": ".py",
   "mimetype": "text/x-python",
   "name": "python",
   "nbconvert_exporter": "python",
   "pygments_lexer": "ipython3",
   "version": "3.9.7"
  }
 },
 "nbformat": 4,
 "nbformat_minor": 5
}
